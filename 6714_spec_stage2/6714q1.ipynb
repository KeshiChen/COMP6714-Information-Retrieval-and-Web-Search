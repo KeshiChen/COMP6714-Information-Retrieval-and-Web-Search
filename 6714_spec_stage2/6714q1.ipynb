{
 "cells": [
  {
   "cell_type": "code",
   "execution_count": 56,
   "metadata": {},
   "outputs": [
    {
     "name": "stdout",
     "output_type": "stream",
     "text": [
      "[['TAR', 2, 3], ['HYP', 5, 5]]\n",
      "[['TAR', 0, 1], ['HYP', 2, 3], ['HYP', 5, 5]]\n",
      "['HYP', 5, 5]\n",
      "0.4\n"
     ]
    },
    {
     "data": {
      "text/plain": [
       "0.4"
      ]
     },
     "execution_count": 56,
     "metadata": {},
     "output_type": "execute_result"
    }
   ],
   "source": [
    "golden_list =  [['B-TAR', 'I-TAR','I-TAR', 'I-TAR','O', 'B-HYP']]\n",
    "predict_list =  [['B-TAR','I-TAR', 'B-HYP','I-HYP','O', 'B-HYP']]\n",
    "\n",
    "    \n",
    "def count_labels(nlist):\n",
    "    labels=0\n",
    "    index_list=[]\n",
    "    for alist in nlist:\n",
    "        # clean the tags to make it uniform\n",
    "        tags=[]\n",
    "        for i in range (0, len(alist)):\n",
    "            if alist[i]!=\"O\":\n",
    "                tags.append(alist[i].split('-')[1])\n",
    "            else:\n",
    "                tags.append(alist[i])\n",
    "        tags.append(\"O\")\n",
    "\n",
    "        # group the tags\n",
    "        tag_group=[]\n",
    "        start=0\n",
    "        for i in range(1,len(tags)):\n",
    "            if tags[i-1]==tags[i]:\n",
    "                start=i-1\n",
    "                continue\n",
    "            stop=i-1\n",
    "            tag_group.append([tags[i-1],start,stop])\n",
    "            start=i\n",
    "            \n",
    "        #remove unwanted tags \"O\"\n",
    "        tag_group[:] = (value for value in tag_group if value[0] != \"O\")\n",
    "        print(tag_group)\n",
    "        labels+= len(tag_group)\n",
    "        index_list.append(tag_group)\n",
    "    \n",
    "    return index_list, labels\n",
    "    \n",
    "\n",
    "def count_match(golden, predict):\n",
    "    match_count=0\n",
    "    for i in range(0, len(golden)):\n",
    "        for j in range(0, len(predict[i])):\n",
    "            if predict[i][j] in golden[i]:\n",
    "                print(predict[i][j])\n",
    "                match_count+=1\n",
    "                \n",
    "    return match_count\n",
    "        \n",
    "        \n",
    "        \n",
    "\n",
    "def evaluate(golden_list, predict_list):\n",
    "    B=1\n",
    "    golden_labels, golden_count=count_labels(golden_list)\n",
    "    predict_labels, predict_count=count_labels(predict_list)\n",
    "    match_count= count_match(golden_labels, predict_labels)\n",
    "    \n",
    "    precision= match_count/predict_count\n",
    "    recall= match_count/golden_count\n",
    "    \n",
    "    F1= ((B*B+1)*precision*recall)/((B*B*precision) + recall)\n",
    "    print(F1)\n",
    "    return F1\n",
    "\n",
    "    \n",
    "    \n",
    "evaluate(golden_list, predict_list)"
   ]
  }
 ],
 "metadata": {
  "kernelspec": {
   "display_name": "Python 3",
   "language": "python",
   "name": "python3"
  },
  "language_info": {
   "codemirror_mode": {
    "name": "ipython",
    "version": 3
   },
   "file_extension": ".py",
   "mimetype": "text/x-python",
   "name": "python",
   "nbconvert_exporter": "python",
   "pygments_lexer": "ipython3",
   "version": "3.6.5"
  }
 },
 "nbformat": 4,
 "nbformat_minor": 2
}
